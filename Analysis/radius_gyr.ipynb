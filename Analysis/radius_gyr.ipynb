{
 "cells": [
  {
   "cell_type": "code",
   "execution_count": 1,
   "id": "e738c85c",
   "metadata": {},
   "outputs": [],
   "source": [
    "import seaborn as sns\n",
    "import pandas as pd\n",
    "import numpy as np\n",
    "import matplotlib.pyplot as plt\n",
    "\n",
    "import numpy as np\n",
    "import matplotlib as mpl\n",
    "import matplotlib.pyplot as plt\n",
    "from matplotlib import cm\n",
    "import math\n",
    "\n",
    "from matplotlib.colors import ListedColormap, LinearSegmentedColormap\n",
    "from matplotlib.backends.backend_pdf import PdfPages"
   ]
  },
  {
   "cell_type": "markdown",
   "id": "a6dbf604",
   "metadata": {},
   "source": [
    "### Radius of gry for apo Abeta"
   ]
  },
  {
   "cell_type": "code",
   "execution_count": 2,
   "id": "0b837d07",
   "metadata": {},
   "outputs": [],
   "source": [
    "###Generating Weights --EEF1 solvent\n",
    "a_bias=np.genfromtxt(\"/pool/work/adelie/results_control/weights/ab_apo_ad_weights\")\n",
    "a_df=pd.DataFrame(a_bias[:,-1])\n",
    "weight_a = np.array(a_df.apply(lambda x: math.exp(x/2.311420), axis=1))"
   ]
  },
  {
   "cell_type": "code",
   "execution_count": 3,
   "id": "2d7313fb",
   "metadata": {},
   "outputs": [],
   "source": [
    "###Generating Weights --Explicit solvent\n",
    "g_bias=np.genfromtxt(\"/pool/work/adelie/results_control/weights/ab_apo_ga_weights\")\n",
    "g_df=pd.DataFrame(g_bias)\n",
    "weight_g = np.array(g_df.apply(lambda x: math.exp(x/2.311420), axis=1))"
   ]
  },
  {
   "cell_type": "code",
   "execution_count": 4,
   "id": "b378df84",
   "metadata": {},
   "outputs": [],
   "source": [
    "###Loading Data - --EEF1 solvent\n",
    "A_AB_apo=np.genfromtxt('/pool/work/adelie/results_control/input_data/radi_gy_apo_ad')"
   ]
  },
  {
   "cell_type": "code",
   "execution_count": 5,
   "id": "78093379",
   "metadata": {},
   "outputs": [],
   "source": [
    "###Loading Data - --Explicit solvent\n",
    "G_AB_apo=np.genfromtxt('/pool/work/adelie/gabis_data/apo_protein/colvar_gy')"
   ]
  },
  {
   "cell_type": "code",
   "execution_count": 6,
   "id": "6cdfc773",
   "metadata": {},
   "outputs": [],
   "source": [
    "blue_dark  = (0.4392, 0.5961, 0.8196) #set dark blue\n",
    "blue_light = (0.6549, 0.7765, 0.8941) #set light blue\n",
    "G_AB = (0.7686, 0.4196, 0.1882, 0.5)"
   ]
  },
  {
   "cell_type": "code",
   "execution_count": 7,
   "id": "6b24efa4",
   "metadata": {},
   "outputs": [
    {
     "data": {
      "text/plain": [
       "Text(0.5, 0, 'Rg')"
      ]
     },
     "execution_count": 7,
     "metadata": {},
     "output_type": "execute_result"
    },
    {
     "data": {
      "image/png": "[encoded data removed]",
      "text/plain": [
       "<Figure size 432x288 with 1 Axes>"
      ]
     },
     "metadata": {
      "needs_background": "light"
     },
     "output_type": "display_data"
    }
   ],
   "source": [
    "plt.hist(A_AB_apo[:,1], bins=50,weights=weight_a, density=True, color=G_AB)\n",
    "plt.hist(G_AB_apo[:,1], bins=50, weights=weight_g, density=True, color=blue_dark, alpha=0.5)\n",
    "plt.legend(labels=[\"EEF1\",\"Explicit Solv\"])\n",
    "plt.title('Radius of Gyration')\n",
    "plt\n",
    "plt.ylabel(\"Probability distribution\")\n",
    "plt.xlabel(\"Rg\")"
   ]
  },
  {
   "cell_type": "markdown",
   "id": "c23f72c1",
   "metadata": {},
   "source": [
    "### Radius of gry for G5 Abeta"
   ]
  },
  {
   "cell_type": "code",
   "execution_count": 8,
   "id": "eb329ce6",
   "metadata": {},
   "outputs": [],
   "source": [
    "###Generating Weights --EEF1 solvent\n",
    "a_bias=np.genfromtxt(\"/pool/work/adelie/results_control/weights/ab_G5_ad_weights\")\n",
    "a_df=pd.DataFrame(a_bias[:,-1])\n",
    "weight_a = np.array(a_df.apply(lambda x: math.exp(x/2.311420), axis=1))\n",
    "\n",
    "###Generating Weights --Explicit solvent\n",
    "g_bias=np.genfromtxt(\"/pool/work/adelie/results_control/weights/ab_G5_ga_weights\")\n",
    "g_df=pd.DataFrame(g_bias)\n",
    "weight_g = np.array(g_df.apply(lambda x: math.exp(x/2.311420), axis=1))"
   ]
  },
  {
   "cell_type": "code",
   "execution_count": 9,
   "id": "b5d654f5",
   "metadata": {},
   "outputs": [],
   "source": [
    "###Loading Data - --EEF1 solvent\n",
    "A_AB_G5=np.genfromtxt('/pool/work/adelie/results_control/input_data/radi_gy_G5_ad')\n",
    "\n",
    "###Loading Data - --Explicit solvent\n",
    "G_AB_G5=np.genfromtxt('/pool/work/adelie/gabis_data/G5_protein/colvar_gy')"
   ]
  },
  {
   "cell_type": "code",
   "execution_count": 10,
   "id": "650d859a",
   "metadata": {},
   "outputs": [],
   "source": [
    "blue_dark  = (0.4392, 0.5961, 0.8196) #set dark blue\n",
    "blue_light = (0.6549, 0.7765, 0.8941) #set light blue\n",
    "G_AB = (0.7686, 0.4196, 0.1882, 0.5)"
   ]
  },
  {
   "cell_type": "code",
   "execution_count": 11,
   "id": "033e4a6b",
   "metadata": {},
   "outputs": [
    {
     "data": {
      "text/plain": [
       "Text(0.5, 0, 'Rg')"
      ]
     },
     "execution_count": 11,
     "metadata": {},
     "output_type": "execute_result"
    },
    {
     "data": {
      "image/png": "[encoded data removed]",
      "text/plain": [
       "<Figure size 432x288 with 1 Axes>"
      ]
     },
     "metadata": {
      "needs_background": "light"
     },
     "output_type": "display_data"
    }
   ],
   "source": [
    "plt.hist(A_AB_G5[:,1], bins=50,weights=weight_a, density=True, color=G_AB)\n",
    "plt.hist(G_AB_G5[:,1], bins=50, weights=weight_g, density=True, color=blue_dark, alpha=0.5)\n",
    "plt.legend(labels=[\"EEF1\",\"Explicit Solv\"])\n",
    "plt.title('Radius of Gyration')\n",
    "\n",
    "plt\n",
    "plt.ylabel(\"Probability distribution\")\n",
    "plt.xlabel(\"Rg\")"
   ]
  },
  {
   "cell_type": "code",
   "execution_count": null,
   "id": "0e1ca148",
   "metadata": {},
   "outputs": [],
   "source": []
  }
 ],
 "metadata": {
  "kernelspec": {
   "display_name": "Python 3 (ipykernel)",
   "language": "python",
   "name": "python3"
  },
  "language_info": {
   "codemirror_mode": {
    "name": "ipython",
    "version": 3
   },
   "file_extension": ".py",
   "mimetype": "text/x-python",
   "name": "python",
   "nbconvert_exporter": "python",
   "pygments_lexer": "ipython3",
   "version": "3.9.7"
  }
 },
 "nbformat": 4,
 "nbformat_minor": 5
}
