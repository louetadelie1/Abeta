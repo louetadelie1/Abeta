{
 "cells": [
  {
   "cell_type": "code",
   "execution_count": 3,
   "id": "6b810cc7",
   "metadata": {},
   "outputs": [],
   "source": [
    "import numpy as np\n",
    "import pyemma as pe\n",
    "import itertools\n",
    "import mdtraj as md\n",
    "import matplotlib.pyplot as plt\n",
    "from __future__ import print_function\n",
    "import matplotlib\n",
    "from matplotlib.backends.backend_agg import FigureCanvasAgg as FigureCanvas\n",
    "from matplotlib.figure import Figure\n",
    "from glob import glob\n",
    "import os\n",
    "import pandas as pd\n",
    "import seaborn as sns\n",
    "\n",
    "from matplotlib.colors import ListedColormap, LinearSegmentedColormap\n",
    "from matplotlib.backends.backend_pdf import PdfPages"
   ]
  },
  {
   "cell_type": "code",
   "execution_count": 4,
   "id": "79b7bd5c",
   "metadata": {},
   "outputs": [],
   "source": [
    "def make_stacking_angles(sub_atoms, lig_atoms):\n",
    "    def stacking_angles(xtc):\n",
    "        coms = np.empty((xtc.n_frames, 2, 3))\n",
    "        normals = np.empty((xtc.n_frames, 2, 3))\n",
    "        for i, atoms in enumerate((sub_atoms, lig_atoms)):\n",
    "            # Center-of-mass for each aromatic system\n",
    "            coms[:, i] = md.compute_center_of_mass(xtc.atom_slice(atoms))\n",
    "\n",
    "            # Create a and b vectors in the aromatic plane to compute the normals\n",
    "            com_o_r = np.empty((xtc.n_frames, 2, 3))\n",
    "            for j in range(2):\n",
    "                other = xtc.atom_slice(atoms).xyz[:, j]\n",
    "                com_o_r[:, j] = other - coms[:, i]\n",
    "                com_o_r[:, j] /= np.linalg.norm(com_o_r[:, j], axis=1, keepdims=True)\n",
    "            normals[:, i] = (np.cross(com_o_r[:, 0], com_o_r[:, 1]) /\n",
    "                             np.sqrt(1 - com_o_r.prod(axis=1).sum(axis=-1) ** 2).reshape(-1, 1))\n",
    "\n",
    "        # Distance between both aromatic COMs\n",
    "        com_r = np.diff(coms, axis=1)\n",
    "\n",
    "        # alpha (substrate aromatic angle to COM-distance) and\n",
    "        # beta (ligand aromatic angle to COM-distance)\n",
    "        angles = np.arccos((com_r * normals).sum(axis=-1) /\n",
    "                         (np.linalg.norm(com_r, axis=-1) *\n",
    "                          np.linalg.norm(normals, axis=-1)))\n",
    "        \n",
    "        # COM distances\n",
    "        comds = np.sqrt((com_r.squeeze() ** 2).sum(axis=-1)).reshape(-1, 1)\n",
    "\n",
    "        return np.hstack((angles.astype(np.float32), comds.astype(np.float32)))\n",
    "    return stacking_angles"
   ]
  },
  {
   "cell_type": "code",
   "execution_count": 5,
   "id": "b48e05f7",
   "metadata": {},
   "outputs": [],
   "source": [
    "def normalize_2d(matrix):\n",
    "    norm = np.linalg.norm(matrix)\n",
    "    matrix = matrix/norm  # normalized matrix\n",
    "    return matrix"
   ]
  },
  {
   "cell_type": "code",
   "execution_count": 6,
   "id": "f047f879",
   "metadata": {},
   "outputs": [],
   "source": [
    "c_AB = (0.7686, 0.4196, 0.1882, 1)   #set color for AB points\n",
    "e_AB = (0.7686, 0.4196, 0.1882, 0.5) #set color for AB errors\n",
    "c_G5 = (0.3725, 0.5804, 0.4588, 1)   #set color for AB+10074-G5 points\n",
    "e_G5 = (0.3725, 0.5804, 0.4588, 0.5) #set color for AB+10074-G5 errors\n",
    "blue_dark  = (0.4392, 0.5961, 0.8196) #set dark blue\n",
    "blue_light = (0.6549, 0.7765, 0.8941) #set light blue\n",
    "red_dark   = (0.4431, 0.1059, 0.0941) #set dark red\n",
    "red_light  = (0.6392, 0.4118, 0.3882) #set light red"
   ]
  },
  {
   "cell_type": "code",
   "execution_count": 7,
   "id": "2b56b73b",
   "metadata": {},
   "outputs": [],
   "source": [
    "sim_names = ('ligandA',\"ligandB\", \"ligandC\",\"ligandD\",\"ab_apo\",\"ab_G5\")\n",
    "    \n",
    "top, trajs = {}, {}\n",
    "#trajs = {k: sorted(glob(\"/pool/work/adelie/results_G5_der/input_data/trajectories/{0}/*_traj.xtc\".format(k))) for k in sim_names}\n",
    "trajs={k: \"/pool/work/adelie/results_G5_der/input_data/trajectories/{0}_traj.xtc\".format(k) for k in sim_names}\n",
    "#top = {k: \"/pool/work/adelie/results_G5_der/input_data/topology/{0}/*.gro\".format(k) for k in sim_names}\n",
    "top = {k: \"/pool/work/adelie/results_G5_der/input_data/topology/{0}.gro\".format(k) for k in sim_names}\n",
    "weight={k: \"/pool/work/adelie/results_G5_der/input_data/weights/{0}_weights\".format(k) for k in sim_names}\n",
    "\n",
    "\n",
    "topo = md.load_topology(\"/pool/work/adelie/results_control/input_data/ab_apo.gro\")\n"
   ]
  },
  {
   "cell_type": "code",
   "execution_count": 8,
   "id": "b28d57ef",
   "metadata": {},
   "outputs": [],
   "source": [
    "n_atoms = {k: md.load_topology(top[k]).n_atoms for k in sim_names}"
   ]
  },
  {
   "cell_type": "code",
   "execution_count": 9,
   "id": "4c6ea0ef",
   "metadata": {},
   "outputs": [],
   "source": [
    "#Abeta contstant residues - those that will produce aromatic stacking\n",
    "resids = (3, 9, 18, 19) # PHE4, TYR10, PHE19, PHE20\n",
    "\n",
    "#ligand Aromatic residues - ''\n",
    "lig_arom_atoms = dict(\n",
    "    ligandB=dict(\n",
    "        nbf=np.array([634, 633, 632, 631, 630, 629, 628, 636, 635]),  # Nitrobenzofurazan\n",
    "        a1=np.array([642, 641, 640, 639, 638, 637]),  # Center phenyl\n",
    "        a2=np.array([647, 646, 645, 644, 643, 648]),  # Ortho phenyl\n",
    "    ),\n",
    "    ligandA=dict(\n",
    "        nbf=np.array([633, 634, 638, 639, 628, 629, 632, 631, 630]),  # Nitrobenzofurazan\n",
    "        a1=np.array([645, 644, 643, 642, 641, 640]),  # Center phenyl\n",
    "    ),\n",
    "    ligandD=dict(\n",
    "        nbf=np.array([630, 631, 632, 633, 628, 629]),  # Phenylamine\n",
    "        a1=np.array([638, 637, 636, 635, 634, 639]),  # 'Center' phenyl\n",
    "    ),\n",
    "    ligandE=dict(\n",
    "        nbf=np.array([631, 632, 630, 629, 633, 634,638,639,628]),  # Nitrobenzofurazan\n",
    "    )\n",
    ")\n"
   ]
  },
  {
   "cell_type": "markdown",
   "id": "9afe9939",
   "metadata": {},
   "source": [
    "## LigandB"
   ]
  },
  {
   "cell_type": "code",
   "execution_count": 10,
   "id": "85c3f66f",
   "metadata": {},
   "outputs": [
    {
     "name": "stdout",
     "output_type": "stream",
     "text": [
      "5\n",
      "12\n",
      "0\n",
      "279\n",
      "642\n",
      "724\n",
      "248\n",
      "1329\n",
      "254\n",
      "63\n",
      "1004\n",
      "778\n"
     ]
    }
   ],
   "source": [
    "k = \"ligandB\"\n",
    "angles = {}\n",
    "for arom_res in resids:\n",
    "    angles[arom_res] = {}\n",
    "    res_name = topo.residue(arom_res)\n",
    "    sub_arom_atoms = topo.select(f\"resid {arom_res} and (name CG or name CD1 or name CD2 or name CE1 or name CE2 or name CZ)\")\n",
    "    for name, frag in lig_arom_atoms[k].items():\n",
    "        stacking = make_stacking_angles(sub_arom_atoms, frag)\n",
    "        feat = pe.coordinates.featurizer(top[k])\n",
    "        feat.add_custom_func(stacking, dim=3)\n",
    "        inp = pe.coordinates.source(trajs[k], feat)\n",
    "        angles[arom_res][name] = np.vstack(inp.get_output())\n",
    "        \n",
    "k = \"ligandB\"\n",
    "n_bins = 50\n",
    "mats = {}\n",
    "for resid in angles.keys():\n",
    "    mats[resid] = {}\n",
    "    for arom_res in angles[resid].keys():\n",
    "        ang = angles[resid][arom_res]\n",
    "        inter = ang[:, 2] < 0.6\n",
    "        count = np.count_nonzero(inter)"
   ]
  },
  {
   "cell_type": "code",
   "execution_count": 37,
   "id": "76755c5b",
   "metadata": {
    "scrolled": true
   },
   "outputs": [
    {
     "data": {
      "image/png": "[encoded data removed]",
      "text/plain": [
       "<Figure size 432x288 with 2 Axes>"
      ]
     },
     "metadata": {
      "needs_background": "light"
     },
     "output_type": "display_data"
    }
   ],
   "source": [
    "array=[count]\n",
    "y=normalize_2d(array)\n",
    "x_axis_labels = ['Phe4','Tyr10','Phe19', 'Phe20'] # labels for x-axis\n",
    "y_axis_labels = ['Nitrobenzofurazan','Center phenyl','Ortho phenyl'] # labels for y-axis\n",
    "ax = sns.heatmap(y,annot=True,xticklabels=x_axis_labels,yticklabels=y_axis_labels,)\n",
    "ax.set_title('Ligand B')"
   ]
  },
  {
   "cell_type": "code",
   "execution_count": null,
   "id": "bc8a7b92",
   "metadata": {},
   "outputs": [],
   "source": [
    "# ... rinse & repeat for each other ligand"
   ]
  }
 ],
 "metadata": {
  "kernelspec": {
   "display_name": "my_env",
   "language": "python",
   "name": "my_env"
  },
  "language_info": {
   "codemirror_mode": {
    "name": "ipython",
    "version": 3
   },
   "file_extension": ".py",
   "mimetype": "text/x-python",
   "name": "python",
   "nbconvert_exporter": "python",
   "pygments_lexer": "ipython3",
   "version": "3.9.12"
  }
 },
 "nbformat": 4,
 "nbformat_minor": 5
}
