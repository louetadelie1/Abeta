{
 "cells": [
  {
   "cell_type": "code",
   "execution_count": 6,
   "id": "337761cd",
   "metadata": {},
   "outputs": [],
   "source": [
    "import numpy as np\n",
    "import pyemma as pe\n",
    "import pandas as pd\n",
    "import itertools\n",
    "import mdtraj as md\n",
    "import matplotlib.pyplot as plt\n",
    "from __future__ import print_function\n",
    "import matplotlib\n",
    "from matplotlib.backends.backend_agg import FigureCanvasAgg as FigureCanvas\n",
    "from matplotlib.figure import Figure\n",
    "import math\n",
    "import seaborn as sns\n",
    "%matplotlib inline\n",
    "import matplotlib.image as mpimg\n",
    "\n",
    "import sys\n",
    "np.set_printoptions(threshold=sys.maxsize)\n",
    "from matplotlib.colors import ListedColormap, LinearSegmentedColormap\n",
    "from matplotlib.backends.backend_pdf import PdfPages"
   ]
  },
  {
   "cell_type": "code",
   "execution_count": 7,
   "id": "b8910ef1",
   "metadata": {},
   "outputs": [],
   "source": [
    "cutoff=0.45\n",
    "allpairs = np.asarray(list(itertools.combinations(range(42), 2)))"
   ]
  },
  {
   "cell_type": "code",
   "execution_count": 8,
   "id": "aaa8b68c",
   "metadata": {},
   "outputs": [],
   "source": [
    "def triu_inverse(x: np.ndarray, n: int) -> np.ndarray:\n",
    "    \"\"\"\n",
    "    Converts flattened upper-triangular matrices into full symmetric matrices.\n",
    "    \n",
    "    Parameters\n",
    "    ----------\n",
    "    x\n",
    "        Flattened matrices\n",
    "    n\n",
    "        Size of the n * n matrix\n",
    "    \n",
    "    Returns\n",
    "    -------\n",
    "    mat\n",
    "        Array of shape (length, n, n)\n",
    "    \n",
    "    \"\"\"\n",
    "    length = x.shape[0]\n",
    "    mat = np.zeros((length, n, n))\n",
    "    a, b = np.triu_indices(n, k=1)\n",
    "    mat[:, a, b] = x\n",
    "    mat += mat.swapaxes(1, 2)\n",
    "    return mat"
   ]
  },
  {
   "cell_type": "code",
   "execution_count": 9,
   "id": "0aaba121",
   "metadata": {},
   "outputs": [],
   "source": [
    "###Generating Weights --EEF1 solvent\n",
    "###(ab_G5_ad_weights previously generated weights file from plumed driver)\n",
    "a_bias=np.genfromtxt(\"/pool/work/adelie/results_control/weights/ab_G5_ad_weights\")\n",
    "a_df=pd.DataFrame(a_bias[:,-1])\n",
    "weight_a = np.array(a_df.apply(lambda x: math.exp(x/2.311420), axis=1))\n",
    "o=np.linalg.norm(weight_a)\n",
    "weight_a_n = weight_a/o"
   ]
  },
  {
   "cell_type": "code",
   "execution_count": 10,
   "id": "04c140a7",
   "metadata": {},
   "outputs": [],
   "source": [
    "###Loading Data - --EEF1 solvent\n",
    "xtc=('/pool/work/adelie/results_control/input_data/ab_G5_trajectory.xtc')\n",
    "gro=('/pool/work/adelie/results_control/input_data/ab_G5.gro')\n",
    "\n",
    "allpairs = np.asarray(list(itertools.combinations(range(42), 2)))\n",
    "feat = pe.coordinates.featurizer(gro)\n",
    "feat.add_residue_mindist(residue_pairs=allpairs)\n",
    "inpcon = pe.coordinates.source(xtc, feat)\n",
    "mindist = inpcon.get_output()\n",
    "x=np.array(mindist)"
   ]
  },
  {
   "cell_type": "code",
   "execution_count": 34,
   "id": "87530e9d",
   "metadata": {},
   "outputs": [],
   "source": [
    "### Caluculating Contact Matrix\n",
    "con = (weight_a_n[:, None] * (x< cutoff)).sum(axis=0)\n",
    "p=triu_inverse(con,42)\n",
    "q=sum(p)\n",
    "r=np.linalg.norm(q)\n",
    "q = q/r"
   ]
  },
  {
   "cell_type": "code",
   "execution_count": 12,
   "id": "26484c96",
   "metadata": {},
   "outputs": [
    {
     "data": {
      "text/plain": [
       "Text(33.0, 0.5, 'Residue number')"
      ]
     },
     "execution_count": 12,
     "metadata": {},
     "output_type": "execute_result"
    },
    {
     "data": {
      "image/png": "[encoded data removed]",
      "text/plain": [
       "<Figure size 432x288 with 2 Axes>"
      ]
     },
     "metadata": {
      "needs_background": "light"
     },
     "output_type": "display_data"
    }
   ],
   "source": [
    "plt.title(\"EEF1 Inter-residue Contacts\")\n",
    "ax = sns.heatmap(q,cmap=\"Blues\", cbar=True)\n",
    "ax.set_xlabel(\"Residue number\")\n",
    "ax.set_ylabel(\"Residue number\")\n"
   ]
  },
  {
   "cell_type": "code",
   "execution_count": 13,
   "id": "bf3e7736",
   "metadata": {},
   "outputs": [],
   "source": [
    "###Generating Weights --Explicit solvent\n",
    "g_bias=np.genfromtxt(\"/pool/work/adelie/results_control/weights/ab_G5_ga_weights\")\n",
    "g_df=pd.DataFrame(g_bias)#[:,-1])\n",
    "g_df=g_df.astype(float)\n",
    "weight_g = np.array(g_df.apply(lambda x: math.exp(x/2.311420), axis=1))\n",
    "og=np.linalg.norm(weight_g)\n",
    "weight_g_n = weight_g/og"
   ]
  },
  {
   "cell_type": "code",
   "execution_count": 14,
   "id": "44cf2725",
   "metadata": {},
   "outputs": [
    {
     "data": {
      "application/vnd.jupyter.widget-view+json": {
       "model_id": "",
       "version_major": 2,
       "version_minor": 0
      },
      "text/plain": [
       "getting output of FeatureReader:   0%|          | 0/4 [00:00<?, ?it/s]"
      ]
     },
     "metadata": {},
     "output_type": "display_data"
    }
   ],
   "source": [
    "###Loading Data - --Explicit solvent\n",
    "xtc_g=('/pool/work/adelie/gabis_data/G5_protein/traj_all-skip-0-noW_G5.xtc')\n",
    "gro_g=('/pool/work/adelie/MAKING_WEIGHTS-G5/em.gro')\n",
    "\n",
    "allpairs = np.asarray(list(itertools.combinations(range(42), 2)))\n",
    "feat_g = pe.coordinates.featurizer(gro_g)\n",
    "feat_g.add_residue_mindist(residue_pairs=allpairs)\n",
    "inpcon_g = pe.coordinates.source(xtc_g, feat_g)\n",
    "mindist_g = inpcon_g.get_output()\n",
    "x_g=np.array(mindist_g)\n"
   ]
  },
  {
   "cell_type": "code",
   "execution_count": 15,
   "id": "1c0969ee",
   "metadata": {},
   "outputs": [],
   "source": [
    "con_g = (weight_g_n[:, None] * (x_g< cutoff)).sum(axis=0)\n",
    "p_g=triu_inverse(con_g,42)\n",
    "q_g=sum(p_g)\n",
    "r=np.linalg.norm(q_g)\n",
    "z = q_g/r"
   ]
  },
  {
   "cell_type": "code",
   "execution_count": 16,
   "id": "10e26797",
   "metadata": {},
   "outputs": [
    {
     "data": {
      "text/plain": [
       "Text(33.0, 0.5, 'Residue number')"
      ]
     },
     "execution_count": 16,
     "metadata": {},
     "output_type": "execute_result"
    },
    {
     "data": {
      "image/png": "[encoded data removed]",
      "text/plain": [
       "<Figure size 432x288 with 2 Axes>"
      ]
     },
     "metadata": {
      "needs_background": "light"
     },
     "output_type": "display_data"
    }
   ],
   "source": [
    "plt.title(\"Explicit Solv Inter-residue Contacts\")\n",
    "\n",
    "ax = sns.heatmap(z, cmap=\"Greens\", cbar=True)\n",
    "\n",
    "ax.set_xlabel(\"Residue number\")\n",
    "ax.set_ylabel(\"Residue number\")"
   ]
  },
  {
   "cell_type": "code",
   "execution_count": null,
   "id": "a68001fe",
   "metadata": {},
   "outputs": [],
   "source": []
  },
  {
   "cell_type": "code",
   "execution_count": null,
   "id": "111a4864",
   "metadata": {},
   "outputs": [],
   "source": []
  }
 ],
 "metadata": {
  "kernelspec": {
   "display_name": "my_env",
   "language": "python",
   "name": "my_env"
  },
  "language_info": {
   "codemirror_mode": {
    "name": "ipython",
    "version": 3
   },
   "file_extension": ".py",
   "mimetype": "text/x-python",
   "name": "python",
   "nbconvert_exporter": "python",
   "pygments_lexer": "ipython3",
   "version": "3.9.12"
  }
 },
 "nbformat": 4,
 "nbformat_minor": 5
}
